{
 "cells": [
  {
   "cell_type": "code",
   "execution_count": 1,
   "metadata": {
    "collapsed": true
   },
   "outputs": [],
   "source": [
    "from azure.storage.blob import BlockBlobService\n",
    "from azure.storage.blob import ContentSettings"
   ]
  },
  {
   "cell_type": "code",
   "execution_count": null,
   "metadata": {
    "collapsed": true
   },
   "outputs": [],
   "source": []
  },
  {
   "cell_type": "code",
   "execution_count": 2,
   "metadata": {
    "collapsed": true
   },
   "outputs": [],
   "source": [
    "block_blob_service = BlockBlobService(account_name='finalprojectsummer2017', account_key='aH3ls6ELnFJeCcq3dKwBFMFBZBDwhN3uyFDvgf3ZE3P9JRJlCYNYbRatvD5BQOzgmti+rsNJ16OBxg5u9XeWpA==')\n",
    "\n",
    "\n"
   ]
  },
  {
   "cell_type": "code",
   "execution_count": 3,
   "metadata": {
    "collapsed": true
   },
   "outputs": [],
   "source": [
    "from azure.storage.blob import ContentSettings\n",
    "temp=[]\n",
    "generator = block_blob_service.list_blobs('data')\n",
    "for blob in generator:\n",
    "    a=blob.name\n",
    "    temp.append(a)\n",
    "    "
   ]
  },
  {
   "cell_type": "code",
   "execution_count": 4,
   "metadata": {},
   "outputs": [
    {
     "data": {
      "text/plain": [
       "['dataGreaterthan60', 'dataLessthan60', 'desiredData', 'final_bcsc_Data']"
      ]
     },
     "execution_count": 4,
     "metadata": {},
     "output_type": "execute_result"
    }
   ],
   "source": [
    "temp"
   ]
  },
  {
   "cell_type": "code",
   "execution_count": 5,
   "metadata": {
    "collapsed": true
   },
   "outputs": [],
   "source": [
    "\n",
    "filename='final_bcsc_Data.csv'\n",
    "if filename in temp:\n",
    "    print('file exists')\n",
    "else:\n",
    "    block_blob_service.create_blob_from_path(\n",
    "    'data',\n",
    "    filename,\n",
    "    'C:\\Summer 2017\\FINALPROJECT\\FinalProject\\dhruv.csv',\n",
    "    content_settings=ContentSettings(content_type='csv')\n",
    "        )"
   ]
  },
  {
   "cell_type": "code",
   "execution_count": 6,
   "metadata": {
    "collapsed": true
   },
   "outputs": [],
   "source": [
    "filename='desiredData.csv'\n",
    "if filename in temp:\n",
    "    print('file exists')\n",
    "else:\n",
    "    block_blob_service.create_blob_from_path(\n",
    "    'data',\n",
    "    filename,\n",
    "    'C:\\Summer 2017\\FINALPROJECT\\FinalProject\\desiredData.csv',\n",
    "    content_settings=ContentSettings(content_type='csv')\n",
    "        )"
   ]
  },
  {
   "cell_type": "code",
   "execution_count": 7,
   "metadata": {
    "collapsed": true
   },
   "outputs": [],
   "source": [
    "filename='dataLessthan60.csv'\n",
    "if filename in temp:\n",
    "    print('file exists')\n",
    "else:\n",
    "    block_blob_service.create_blob_from_path(\n",
    "    'data',\n",
    "    filename,\n",
    "    'C:\\Summer 2017\\FINALPROJECT\\FinalProject\\dataLessthan60.csv',\n",
    "    content_settings=ContentSettings(content_type='csv')\n",
    "        )"
   ]
  },
  {
   "cell_type": "code",
   "execution_count": 8,
   "metadata": {
    "collapsed": true
   },
   "outputs": [],
   "source": [
    "\n",
    "filename='dataGreaterthan60.csv'\n",
    "if filename in temp:\n",
    "    print('file exists')\n",
    "else:\n",
    "    block_blob_service.create_blob_from_path(\n",
    "    'data',\n",
    "    filename,\n",
    "    'C:\\Summer 2017\\FINALPROJECT\\FinalProject\\dataGreaterthan60.csv',\n",
    "    content_settings=ContentSettings(content_type='csv')\n",
    "        )"
   ]
  },
  {
   "cell_type": "code",
   "execution_count": null,
   "metadata": {
    "collapsed": true
   },
   "outputs": [],
   "source": []
  },
  {
   "cell_type": "code",
   "execution_count": null,
   "metadata": {
    "collapsed": true
   },
   "outputs": [],
   "source": []
  },
  {
   "cell_type": "code",
   "execution_count": 13,
   "metadata": {
    "scrolled": true
   },
   "outputs": [
    {
     "name": "stdout",
     "output_type": "stream",
     "text": [
      "myblockblob\n"
     ]
    }
   ],
   "source": [
    "# generator = block_blob_service.list_blobs('data')\n",
    "# for blob in generator:\n",
    "#     print(blob.name)"
   ]
  },
  {
   "cell_type": "code",
   "execution_count": null,
   "metadata": {
    "collapsed": true
   },
   "outputs": [],
   "source": []
  },
  {
   "cell_type": "code",
   "execution_count": null,
   "metadata": {
    "collapsed": true
   },
   "outputs": [],
   "source": []
  },
  {
   "cell_type": "code",
   "execution_count": null,
   "metadata": {
    "collapsed": true
   },
   "outputs": [],
   "source": []
  }
 ],
 "metadata": {
  "kernelspec": {
   "display_name": "Python 3",
   "language": "python",
   "name": "python3"
  },
  "language_info": {
   "codemirror_mode": {
    "name": "ipython",
    "version": 3
   },
   "file_extension": ".py",
   "mimetype": "text/x-python",
   "name": "python",
   "nbconvert_exporter": "python",
   "pygments_lexer": "ipython3",
   "version": "3.6.1"
  }
 },
 "nbformat": 4,
 "nbformat_minor": 2
}
