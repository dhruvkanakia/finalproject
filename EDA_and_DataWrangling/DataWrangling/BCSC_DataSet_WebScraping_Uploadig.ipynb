{
 "cells": [
  {
   "cell_type": "code",
   "execution_count": 2,
   "metadata": {
    "collapsed": false
   },
   "outputs": [],
   "source": [
    "import requests\n",
    "from lxml import html\n",
    "import json\n",
    "from zipfile import ZipFile\n",
    "import zipfile\n",
    "import pandas as pd\n",
    "import os\n",
    "import glob\n",
    "import mechanicalsoup as ms\n",
    "from azure.storage.blob import BlockBlobService\n",
    "from azure.storage.blob import ContentSettings"
   ]
  },
  {
   "cell_type": "code",
   "execution_count": 3,
   "metadata": {
    "collapsed": true,
    "scrolled": true
   },
   "outputs": [],
   "source": [
    "with open('config.json') as data:\n",
    "    payload=json.load(data)"
   ]
  },
  {
   "cell_type": "code",
   "execution_count": 4,
   "metadata": {
    "collapsed": true
   },
   "outputs": [],
   "source": [
    "block_blob_service = BlockBlobService(account_name='finalprojectsummer2017', account_key=payload['Key'])"
   ]
  },
  {
   "cell_type": "code",
   "execution_count": 5,
   "metadata": {
    "collapsed": true
   },
   "outputs": [],
   "source": [
    "final='Data/'"
   ]
  },
  {
   "cell_type": "code",
   "execution_count": 6,
   "metadata": {
    "collapsed": false,
    "scrolled": true
   },
   "outputs": [],
   "source": [
    "url = \"http://www.bcsc-research.org/rfdataset/app2/protected/Logon.aspx?ReturnUrl=%2frfdataset%2fapp2%2fprotected%2frisk_dataset.zip\"\n",
    "url2 = \"http://www.bcsc-research.org/rfdataset/app2/protected/risk_dataset.zip\"\n",
    "filename='zipfile.zip'\n",
    "s = requests.Session()\n",
    "browser = ms.Browser(session = s)                                  #Creating session\n",
    "login_page = browser.get(url)\n",
    "login_form = login_page.soup.find(\"form\",{\"id\":\"form1\"})\n",
    "#print(login_form)\n",
    "login_form.find(\"input\", {\"name\":\"UserEmail\"})[\"value\"] = 'bcsclogin'     #Inputting username\n",
    "login_form.find(\"input\", {\"name\":\"UserPass\"})[\"value\"] = 'bcsc_pass'      #Inputing password\n",
    "response = browser.submit(login_form, login_page.url)                     \n",
    "login_page2 = browser.get(url2)\n",
    "with open(os.path.join(final,filename), 'wb') as f:\n",
    "#                 print(link.text)\n",
    "        for chunk in login_page2.iter_content(chunk_size=1024):\n",
    "            if chunk: # filter out keep-alive new chunks\n",
    "                f.write(chunk)\n",
    "                #print('zip file created')"
   ]
  },
  {
   "cell_type": "code",
   "execution_count": 7,
   "metadata": {
    "collapsed": true
   },
   "outputs": [],
   "source": [
    "names=[\"menopaus\",\"agegrp\",\"density\",\"race\",\"Hispanic\",\"bmi\",\"agefirst\",\n",
    "                \"noOfFirstDegRelativesCan\",\"prevcanProc\",\"lastMamm\",\"surgMeno\",\"hrt\",\"invasive\"\n",
    "                ,\"cancerStatus\",\"type\",\"count\"]"
   ]
  },
  {
   "cell_type": "code",
   "execution_count": 8,
   "metadata": {
    "collapsed": true
   },
   "outputs": [],
   "source": [
    "import zipfile\n",
    "for files in glob.glob(os.path.join(final, '*.zip')):       \n",
    "        with zipfile.ZipFile(files) as zip_ref:\n",
    "            df = pd.read_csv(zip_ref.open('risk.txt'),delim_whitespace=True,names=names)\n",
    "            "
   ]
  },
  {
   "cell_type": "code",
   "execution_count": 9,
   "metadata": {
    "collapsed": true
   },
   "outputs": [],
   "source": [
    "a=df.iloc[:, [1,3,4,5,6,7,8,9,10,12]]\n",
    "a = a.replace(9, '', regex=True)\n",
    "df.iloc[:, [1,3,4,5,6,7,8,9,10,12]]=a"
   ]
  },
  {
   "cell_type": "code",
   "execution_count": 10,
   "metadata": {
    "collapsed": false,
    "scrolled": true
   },
   "outputs": [
    {
     "name": "stdout",
     "output_type": "stream",
     "text": [
      "Risk csv ready\n"
     ]
    }
   ],
   "source": [
    "df.to_csv(final+'Risk.csv')\n",
    "print('Risk csv ready')"
   ]
  },
  {
   "cell_type": "code",
   "execution_count": 11,
   "metadata": {
    "collapsed": true,
    "scrolled": false
   },
   "outputs": [],
   "source": [
    "from azure.storage.blob import ContentSettings\n",
    "temp=[]\n",
    "generator = block_blob_service.list_blobs('data')\n",
    "for blob in generator:\n",
    "    a=blob.name\n",
    "    temp.append(a)\n",
    "    "
   ]
  },
  {
   "cell_type": "code",
   "execution_count": 12,
   "metadata": {
    "collapsed": false
   },
   "outputs": [
    {
     "data": {
      "text/plain": [
       "[]"
      ]
     },
     "execution_count": 12,
     "metadata": {},
     "output_type": "execute_result"
    }
   ],
   "source": [
    "temp"
   ]
  },
  {
   "cell_type": "code",
   "execution_count": null,
   "metadata": {
    "collapsed": true,
    "scrolled": true
   },
   "outputs": [],
   "source": []
  },
  {
   "cell_type": "code",
   "execution_count": 13,
   "metadata": {
    "collapsed": true
   },
   "outputs": [],
   "source": [
    "from os import walk\n",
    "\n",
    "f = []\n",
    "for files in glob.glob(os.path.join(final, '*.csv')): \n",
    "    f.append(files.rsplit('\\\\', 1)[-1])"
   ]
  },
  {
   "cell_type": "code",
   "execution_count": 14,
   "metadata": {
    "collapsed": false
   },
   "outputs": [
    {
     "data": {
      "text/plain": [
       "['dataGreaterthan60.csv', 'dataLessthan60.csv', 'DesiredData.csv', 'Risk.csv']"
      ]
     },
     "execution_count": 14,
     "metadata": {},
     "output_type": "execute_result"
    }
   ],
   "source": [
    "f"
   ]
  },
  {
   "cell_type": "code",
   "execution_count": 15,
   "metadata": {
    "collapsed": true,
    "scrolled": true
   },
   "outputs": [],
   "source": [
    "for x in f:\n",
    "    if x in temp:\n",
    "        print(x+'  exists')\n",
    "        \n",
    "    else:\n",
    "        \n",
    "        block_blob_service.create_blob_from_path(\n",
    "        'data',\n",
    "        x,\n",
    "        final+x,\n",
    "        content_settings=ContentSettings(content_type='csv')\n",
    "        )"
   ]
  },
  {
   "cell_type": "code",
   "execution_count": null,
   "metadata": {
    "collapsed": true
   },
   "outputs": [],
   "source": []
  }
 ],
 "metadata": {
  "anaconda-cloud": {},
  "kernelspec": {
   "display_name": "Python [default]",
   "language": "python",
   "name": "python3"
  },
  "language_info": {
   "codemirror_mode": {
    "name": "ipython",
    "version": 3
   },
   "file_extension": ".py",
   "mimetype": "text/x-python",
   "name": "python",
   "nbconvert_exporter": "python",
   "pygments_lexer": "ipython3",
   "version": "3.5.2"
  }
 },
 "nbformat": 4,
 "nbformat_minor": 2
}
